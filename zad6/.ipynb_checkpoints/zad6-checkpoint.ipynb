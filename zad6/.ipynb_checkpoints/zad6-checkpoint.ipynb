{
 "cells": [
  {
   "cell_type": "code",
   "execution_count": 1,
   "metadata": {},
   "outputs": [],
   "source": [
    "a= \"Pizza koi moją duszę.\"\n",
    "b= \"Pizzę mógłbym jeść na śniadanie, obiad i kolację.\"\n",
    "c= \"Pizza z ananasem to zbrodnia.\"\n",
    "d= \"Nie zostawiam niedojedzonych brzegów mojej pizzy.\"\n",
    "e= \"Gdybym mógł, do końca życia jadłbym tylko pizzę.\"\n",
    "punkty= []"
   ]
  },
  {
   "cell_type": "code",
   "execution_count": 2,
   "metadata": {},
   "outputs": [],
   "source": [
    "def test_osob(os):\n",
    "    pytania = [a, b, c, d, e]\n",
    "\n",
    "def zadaj_pytanie(a):\n",
    "    \n",
    "    print(a)\n",
    "    ax = input (\"1, oznacza zupełnie się nie zgadzam, a 5 oznacza zupełnie się zgadzam:\")\n",
    "    ax = int(ax)\n",
    "    if ax>5 or ax<1:\n",
    "        print(\"Liczba spoza skali. Zacznij od początku.\")\n",
    "    else: \n",
    "        return ax"
   ]
  },
  {
   "cell_type": "code",
   "execution_count": 3,
   "metadata": {},
   "outputs": [
    {
     "name": "stdout",
     "output_type": "stream",
     "text": [
      "Pizza koi moją duszę.\n"
     ]
    },
    {
     "name": "stdin",
     "output_type": "stream",
     "text": [
      "1, oznacza zupełnie się nie zgadzam, a 5 oznacza zupełnie się zgadzam: 5\n"
     ]
    },
    {
     "name": "stdout",
     "output_type": "stream",
     "text": [
      "Pizzę mógłbym jeść na śniadanie, obiad i kolację.\n"
     ]
    },
    {
     "name": "stdin",
     "output_type": "stream",
     "text": [
      "1, oznacza zupełnie się nie zgadzam, a 5 oznacza zupełnie się zgadzam: 5\n"
     ]
    },
    {
     "name": "stdout",
     "output_type": "stream",
     "text": [
      "Pizza z ananasem to zbrodnia.\n"
     ]
    },
    {
     "name": "stdin",
     "output_type": "stream",
     "text": [
      "1, oznacza zupełnie się nie zgadzam, a 5 oznacza zupełnie się zgadzam: 3\n"
     ]
    },
    {
     "name": "stdout",
     "output_type": "stream",
     "text": [
      "Nie zostawiam niedojedzonych brzegów mojej pizzy.\n"
     ]
    },
    {
     "name": "stdin",
     "output_type": "stream",
     "text": [
      "1, oznacza zupełnie się nie zgadzam, a 5 oznacza zupełnie się zgadzam: 5\n"
     ]
    },
    {
     "name": "stdout",
     "output_type": "stream",
     "text": [
      "Gdybym mógł, do końca życia jadłbym tylko pizzę.\n"
     ]
    },
    {
     "name": "stdin",
     "output_type": "stream",
     "text": [
      "1, oznacza zupełnie się nie zgadzam, a 5 oznacza zupełnie się zgadzam: 5\n"
     ]
    },
    {
     "name": "stdout",
     "output_type": "stream",
     "text": [
      "Twój wynik to 23 . Pizza stanowi bardzo ważną część Twojego życia. Tak trzymaj.\n"
     ]
    }
   ],
   "source": [
    "pkt = zadaj_pytanie(a)\n",
    "punkty.append(pkt)\n",
    "pkt = zadaj_pytanie(b)\n",
    "punkty.append(pkt)\n",
    "pkt = zadaj_pytanie(c)\n",
    "punkty.append(pkt)\n",
    "pkt = zadaj_pytanie(d)\n",
    "punkty.append(pkt)\n",
    "pkt = zadaj_pytanie(e)\n",
    "punkty.append(pkt)\n",
    "wynik = sum(punkty)\n",
    "wynik = int(wynik)\n",
    "if wynik > 5 and wynik < 10:\n",
    "    print(\"Twój wynik to\", wynik, \".\", \"Nie zasługujesz na to, aby zużywać drogocenny tlen na tej planecie. Addio!\")\n",
    "elif wynik == 5:\n",
    "    print(\"Twój wynik to\", wynik, \".\", \"Każdy Twój dzień jest dniem straconym.\")\n",
    "elif wynik >= 10 and wynik < 15:\n",
    "    print(\"Twój wynik to\", wynik, \".\", \"Jest z tobą źle, ale nie najgorzej. Niech margherita będzie z Tobą.\")\n",
    "elif wynik >= 15 and wynik < 20:\n",
    "    print(\"Twój wynik to\", wynik, \".\", \"Posuwasz się do przodu w odkrywaniu prawdy. Krocz dalej drogą pizzy a poznasz największe sekrety.\")\n",
    "elif wynik >=20 and wynik < 25:\n",
    "    print(\"Twój wynik to\", wynik, \".\", \"Pizza stanowi bardzo ważną część Twojego życia. Tak trzymaj.\")\n",
    "elif wynik == 25:\n",
    "    print(\"Twój wynik to\", wynik, \".\", \"Mamma mia! Musimy się kiedyś umówić na pizzę!\")\n",
    "    \n",
    "if wynik > 0:\n",
    "    punkty.pop(0)\n",
    "    punkty.pop(0)\n",
    "    punkty.pop(0)\n",
    "    punkty.pop(0)\n",
    "    punkty.pop(0)\n",
    "else:\n",
    "    print(\"Dzięki za zrobienie testu!\")"
   ]
  },
  {
   "cell_type": "code",
   "execution_count": null,
   "metadata": {},
   "outputs": [],
   "source": []
  }
 ],
 "metadata": {
  "kernelspec": {
   "display_name": "Python 3",
   "language": "python",
   "name": "python3"
  },
  "language_info": {
   "codemirror_mode": {
    "name": "ipython",
    "version": 3
   },
   "file_extension": ".py",
   "mimetype": "text/x-python",
   "name": "python",
   "nbconvert_exporter": "python",
   "pygments_lexer": "ipython3",
   "version": "3.7.0"
  }
 },
 "nbformat": 4,
 "nbformat_minor": 2
}
