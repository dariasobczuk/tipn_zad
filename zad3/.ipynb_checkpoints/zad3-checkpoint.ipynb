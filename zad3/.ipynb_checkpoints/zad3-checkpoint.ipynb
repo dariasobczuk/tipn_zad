{
 "cells": [
  {
   "cell_type": "markdown",
   "metadata": {},
   "source": [
    "## Moje oceny w semestrze zimowym i ich średnia \n",
    "\n",
    "Ten program będzie liczył moją średnia ze wszystkich przedmiotów w tym semestrze studiów."
   ]
  },
  {
   "cell_type": "code",
   "execution_count": 12,
   "metadata": {},
   "outputs": [],
   "source": [
    "metodologia = 5.0 \n",
    "ogolna = 4.5 \n",
    "wf = 5.0 \n",
    "technologie = 4.0 \n",
    "filozofia = 4.0 \n",
    "mechanizmy = 4.0 \n",
    "neuroanatomia = 4.5 \n",
    "trening = 5.0 \n",
    "komunikacja = 5.0 \n",
    "angielski = 5.0 \n",
    "metodologiacw = 4.0 \n",
    "logika = 3.0"
   ]
  },
  {
   "cell_type": "code",
   "execution_count": 13,
   "metadata": {},
   "outputs": [],
   "source": [
    "suma = metodologia + ogolna + wf + technologie + filozofia + mechanizmy + neuroanatomia + trening + komunikacja + angielski + metodologiacw + logika"
   ]
  },
  {
   "cell_type": "code",
   "execution_count": 14,
   "metadata": {},
   "outputs": [],
   "source": [
    "srednia = suma / 12"
   ]
  },
  {
   "cell_type": "code",
   "execution_count": 15,
   "metadata": {},
   "outputs": [
    {
     "data": {
      "text/plain": [
       "'moja srednia w pierwszym semestrze studiow to 4.416666666666667'"
      ]
     },
     "execution_count": 15,
     "metadata": {},
     "output_type": "execute_result"
    }
   ],
   "source": [
    "\"moja srednia w pierwszym semestrze studiow to \" + str(srednia)"
   ]
  },
  {
   "cell_type": "code",
   "execution_count": null,
   "metadata": {},
   "outputs": [],
   "source": []
  }
 ],
 "metadata": {
  "kernelspec": {
   "display_name": "Python 3",
   "language": "python",
   "name": "python3"
  },
  "language_info": {
   "codemirror_mode": {
    "name": "ipython",
    "version": 3
   },
   "file_extension": ".py",
   "mimetype": "text/x-python",
   "name": "python",
   "nbconvert_exporter": "python",
   "pygments_lexer": "ipython3",
   "version": "3.7.0"
  }
 },
 "nbformat": 4,
 "nbformat_minor": 2
}
